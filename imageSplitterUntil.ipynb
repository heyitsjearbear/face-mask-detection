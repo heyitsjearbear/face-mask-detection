{
 "cells": [
  {
   "cell_type": "code",
   "execution_count": 5,
   "metadata": {},
   "outputs": [],
   "source": [
    "import os\n",
    "import pathlib\n",
    "import shutil"
   ]
  },
  {
   "cell_type": "code",
   "execution_count": 6,
   "metadata": {},
   "outputs": [
    {
     "name": "stdout",
     "output_type": "stream",
     "text": [
      "C://Users//jereb//Downloads//dataset//training_labeled//dog_label// already exists\n",
      "C://Users//jereb//Downloads//dataset//training_labeled//muffin_label// already exists\n",
      "directory C://Users//jereb//Downloads//dataset//training_labeled already exists\n",
      "directory C://Users//jereb//Downloads//dataset//training_unlabeled// already exists\n",
      "test\n",
      "train\n",
      "training_labeled\n",
      "training_unlabeled\n"
     ]
    }
   ],
   "source": [
    "dataset_root = r\"C://Users//jereb//Downloads//dataset\"\n",
    "folder_list = os.listdir(dataset_root)\n",
    "src_train_dog = r\"C://Users//jereb//Downloads//dataset//train//chihuahua/\"\n",
    "src_train_muffin = r\"C://Users//jereb//Downloads//dataset//train//muffin/\"\n",
    "training_labeled_data = r\"C://Users//jereb//Downloads//dataset//training_labeled\"\n",
    "train_dog_label = r\"C://Users//jereb//Downloads//dataset//training_labeled//dog_label//\"\n",
    "train_muffin_label = r\"C://Users//jereb//Downloads//dataset//training_labeled//muffin_label//\"\n",
    "if not os.path.exists(train_dog_label):\n",
    "        os.makedirs(train_dog_label)\n",
    "else:\n",
    "    print(f\"{train_dog_label} already exists\")\n",
    "if not os.path.exists(train_muffin_label):\n",
    "        os.makedirs(train_muffin_label)\n",
    "else:\n",
    "    print(f\"{train_muffin_label} already exists\")\n",
    "training_unlabeled_data = r\"C://Users//jereb//Downloads//dataset//training_unlabeled//\"\n",
    "if not os.path.exists(training_labeled_data):\n",
    "        os.makedirs(training_labeled_data)\n",
    "else:\n",
    "    print(f\"directory {training_labeled_data} already exists\")\n",
    "\n",
    "if not os.path.exists(training_unlabeled_data):\n",
    "        os.makedirs(training_unlabeled_data)\n",
    "else:\n",
    "    print(f\"directory {training_unlabeled_data} already exists\")\n",
    "for file in folder_list:\n",
    "    print(file)\n",
    "\n"
   ]
  },
  {
   "cell_type": "code",
   "execution_count": 3,
   "metadata": {},
   "outputs": [],
   "source": [
    "dog_files = os.listdir(src_train_dog)\n",
    "for img in dog_files[:len(dog_files)//2]:\n",
    "    shutil.copy(src_train_dog + img, train_dog_label + img)\n",
    "    \n",
    "muffin_files = os.listdir(src_train_muffin)\n",
    "for img in muffin_files[:len(muffin_files)//2]:\n",
    "    shutil.copy(src_train_muffin + img, train_muffin_label + img)"
   ]
  },
  {
   "cell_type": "code",
   "execution_count": 4,
   "metadata": {},
   "outputs": [],
   "source": [
    "for img in dog_files[len(dog_files)//2:]:\n",
    "    shutil.copy(src_train_dog + img, training_unlabeled_data + img)\n",
    "    muffin_files = os.listdir(src_train_muffin)\n",
    "for img in muffin_files[len(muffin_files)//2:]:\n",
    "    shutil.copy(src_train_muffin + img, training_unlabeled_data + img)"
   ]
  }
 ],
 "metadata": {
  "kernelspec": {
   "display_name": "tensor",
   "language": "python",
   "name": "python3"
  },
  "language_info": {
   "codemirror_mode": {
    "name": "ipython",
    "version": 3
   },
   "file_extension": ".py",
   "mimetype": "text/x-python",
   "name": "python",
   "nbconvert_exporter": "python",
   "pygments_lexer": "ipython3",
   "version": "3.8.16"
  },
  "orig_nbformat": 4,
  "vscode": {
   "interpreter": {
    "hash": "46d6a5147c76bd4613d60e17725a3da408dded3f5ad5c56df4196e799c49dd56"
   }
  }
 },
 "nbformat": 4,
 "nbformat_minor": 2
}
